{
 "cells": [
  {
   "cell_type": "code",
   "execution_count": 3,
   "metadata": {},
   "outputs": [
    {
     "data": {
      "text/plain": [
       "'Hello'"
      ]
     },
     "execution_count": 3,
     "metadata": {},
     "output_type": "execute_result"
    }
   ],
   "source": [
    "\"hello\".capitalize()"
   ]
  },
  {
   "cell_type": "code",
   "execution_count": 4,
   "metadata": {},
   "outputs": [
    {
     "data": {
      "text/plain": [
       "'hallo'"
      ]
     },
     "execution_count": 4,
     "metadata": {},
     "output_type": "execute_result"
    }
   ],
   "source": [
    "'hello'.replace('e','a')"
   ]
  },
  {
   "cell_type": "code",
   "execution_count": 6,
   "metadata": {},
   "outputs": [
    {
     "data": {
      "text/plain": [
       "True"
      ]
     },
     "execution_count": 6,
     "metadata": {},
     "output_type": "execute_result"
    }
   ],
   "source": [
    "'hello'.isalpha()"
   ]
  },
  {
   "cell_type": "code",
   "execution_count": 8,
   "metadata": {},
   "outputs": [
    {
     "data": {
      "text/plain": [
       "False"
      ]
     },
     "execution_count": 8,
     "metadata": {},
     "output_type": "execute_result"
    }
   ],
   "source": [
    "'hello'.isdigit()"
   ]
  },
  {
   "cell_type": "code",
   "execution_count": 9,
   "metadata": {},
   "outputs": [
    {
     "data": {
      "text/plain": [
       "True"
      ]
     },
     "execution_count": 9,
     "metadata": {},
     "output_type": "execute_result"
    }
   ],
   "source": [
    "'123'.isdigit()"
   ]
  },
  {
   "cell_type": "code",
   "execution_count": 11,
   "metadata": {},
   "outputs": [
    {
     "data": {
      "text/plain": [
       "True"
      ]
     },
     "execution_count": 11,
     "metadata": {},
     "output_type": "execute_result"
    }
   ],
   "source": [
    "'hello'==\"hello\"==\"\"\"hello\"\"\""
   ]
  },
  {
   "cell_type": "code",
   "execution_count": 12,
   "metadata": {},
   "outputs": [
    {
     "data": {
      "text/plain": [
       "['1', '2', '3']"
      ]
     },
     "execution_count": 12,
     "metadata": {},
     "output_type": "execute_result"
    }
   ],
   "source": [
    "\"1,2,3\".split(',')"
   ]
  },
  {
   "cell_type": "code",
   "execution_count": 14,
   "metadata": {},
   "outputs": [
    {
     "data": {
      "text/plain": [
       "'Nice to meet you sakshi, I am anunaya'"
      ]
     },
     "execution_count": 14,
     "metadata": {},
     "output_type": "execute_result"
    }
   ],
   "source": [
    "name=\"sakshi\"\n",
    "machine=\"anunaya\"\n",
    "\"Nice to meet you {0}, I am {1}\".format(name,machine)"
   ]
  },
  {
   "cell_type": "code",
   "execution_count": 19,
   "metadata": {},
   "outputs": [
    {
     "data": {
      "text/plain": [
       "'Nice to meet you sakshi, I am anunaya'"
      ]
     },
     "execution_count": 19,
     "metadata": {},
     "output_type": "execute_result"
    }
   ],
   "source": [
    "name=\"sakshi\"\n",
    "machine=\"anunaya\"\n",
    "f\"Nice to meet you {name}, I am {machine}\""
   ]
  },
  {
   "cell_type": "code",
   "execution_count": 23,
   "metadata": {},
   "outputs": [
    {
     "data": {
      "text/plain": [
       "'Nice to meet you {name}, I am {machine}'"
      ]
     },
     "execution_count": 23,
     "metadata": {},
     "output_type": "execute_result"
    }
   ],
   "source": [
    "name=\"sakshi\"\n",
    "machine=\"anunaya\"\n",
    "r\"Nice to meet you {name}, I am {machine}\""
   ]
  },
  {
   "cell_type": "code",
   "execution_count": 30,
   "metadata": {},
   "outputs": [
    {
     "name": "stdout",
     "output_type": "stream",
     "text": [
      "1\n",
      "0\n"
     ]
    },
    {
     "data": {
      "text/plain": [
       "'False'"
      ]
     },
     "execution_count": 30,
     "metadata": {},
     "output_type": "execute_result"
    }
   ],
   "source": [
    "# delevloper defined variable but not assigned to any value, It will not show any error if we call aliens_found \n",
    "aliens_found=None\n",
    "python_course=True\n",
    "java_course=False\n",
    "print(int(python_course))\n",
    "print(int(java_course))\n",
    "str(java_course)"
   ]
  },
  {
   "cell_type": "code",
   "execution_count": 34,
   "metadata": {},
   "outputs": [
    {
     "name": "stdout",
     "output_type": "stream",
     "text": [
      "number is 5\n"
     ]
    }
   ],
   "source": [
    "number=5\n",
    "if number==5:\n",
    "    print('number is 5')\n",
    "else:\n",
    "    print('number is not 5')"
   ]
  },
  {
   "cell_type": "code",
   "execution_count": null,
   "metadata": {
    "collapsed": true
   },
   "outputs": [],
   "source": []
  },
  {
   "cell_type": "code",
   "execution_count": 47,
   "metadata": {},
   "outputs": [
    {
     "name": "stdout",
     "output_type": "stream",
     "text": [
      "number is defined and truthy\n",
      "text is defined and truthy\n",
      "This will execute_1\n",
      "This will execute_2\n",
      "This will execute_3\n"
     ]
    }
   ],
   "source": [
    "number=5\n",
    "if number:\n",
    "    print('number is defined and truthy')\n",
    "    \n",
    "text=\"sakshi\"\n",
    "if text:\n",
    "    print('text is defined and truthy')\n",
    "    \n",
    "python_course=True\n",
    "if python_course:\n",
    "    print('This will execute_1')\n",
    "    \n",
    "aliens_found=None\n",
    "if aliens_found:\n",
    "    print('This will not executed')\n",
    "\n",
    "if not python_course:\n",
    "    print('This will not execute')\n",
    "    \n",
    "if not python_course or text :\n",
    "    print('This will execute_2')\n",
    "    \n",
    "if python_course and number==5 :\n",
    "    print('This will execute_3')\n",
    "    "
   ]
  },
  {
   "cell_type": "code",
   "execution_count": 52,
   "metadata": {},
   "outputs": [
    {
     "name": "stdout",
     "output_type": "stream",
     "text": [
      "Smaller\n"
     ]
    },
    {
     "data": {
      "text/plain": [
       "'Bigger'"
      ]
     },
     "execution_count": 52,
     "metadata": {},
     "output_type": "execute_result"
    }
   ],
   "source": [
    "# Ternary if statement\n",
    "a=1\n",
    "b=2\n",
    "print(\"Bigger\" if a>b else \"Smaller\")\n",
    "\"Bigger\" if a<b else \"Smaller\""
   ]
  },
  {
   "cell_type": "code",
   "execution_count": 67,
   "metadata": {},
   "outputs": [
    {
     "data": {
      "text/plain": [
       "['sakshi', 'anunaya', 'loves', 'you']"
      ]
     },
     "execution_count": 67,
     "metadata": {},
     "output_type": "execute_result"
    }
   ],
   "source": [
    "student_names=[\"sakshi\",\"anunaya\",\"loves\"]\n",
    "student_names.append(\"you\")\n",
    "student_names"
   ]
  },
  {
   "cell_type": "code",
   "execution_count": 68,
   "metadata": {},
   "outputs": [
    {
     "data": {
      "text/plain": [
       "['sakshi', 'anunaya', 'you']"
      ]
     },
     "execution_count": 68,
     "metadata": {},
     "output_type": "execute_result"
    }
   ],
   "source": [
    "del(student_names[2])\n",
    "student_names"
   ]
  },
  {
   "cell_type": "code",
   "execution_count": 69,
   "metadata": {},
   "outputs": [
    {
     "data": {
      "text/plain": [
       "True"
      ]
     },
     "execution_count": 69,
     "metadata": {},
     "output_type": "execute_result"
    }
   ],
   "source": [
    "'sakshi' in student_names"
   ]
  },
  {
   "cell_type": "code",
   "execution_count": 71,
   "metadata": {},
   "outputs": [
    {
     "data": {
      "text/plain": [
       "3"
      ]
     },
     "execution_count": 71,
     "metadata": {},
     "output_type": "execute_result"
    }
   ],
   "source": [
    "len(student_names)"
   ]
  },
  {
   "cell_type": "code",
   "execution_count": 76,
   "metadata": {},
   "outputs": [
    {
     "data": {
      "text/plain": [
       "['you']"
      ]
     },
     "execution_count": 76,
     "metadata": {},
     "output_type": "execute_result"
    }
   ],
   "source": [
    "student_names[2:]"
   ]
  },
  {
   "cell_type": "code",
   "execution_count": 78,
   "metadata": {},
   "outputs": [
    {
     "data": {
      "text/plain": [
       "['anunaya', 'you']"
      ]
     },
     "execution_count": 78,
     "metadata": {},
     "output_type": "execute_result"
    }
   ],
   "source": [
    "student_names[1:]"
   ]
  },
  {
   "cell_type": "code",
   "execution_count": 81,
   "metadata": {},
   "outputs": [
    {
     "data": {
      "text/plain": [
       "['anunaya']"
      ]
     },
     "execution_count": 81,
     "metadata": {},
     "output_type": "execute_result"
    }
   ],
   "source": [
    "# ignore first and last element in list, It doesnot modify list\n",
    "student_names[1:-1]"
   ]
  },
  {
   "cell_type": "code",
   "execution_count": 83,
   "metadata": {},
   "outputs": [
    {
     "name": "stdout",
     "output_type": "stream",
     "text": [
      "name=sakshi\n",
      "name=anunaya\n",
      "name=you\n"
     ]
    }
   ],
   "source": [
    "for name in student_names:\n",
    "    print('name={0}'.format(name))"
   ]
  },
  {
   "cell_type": "code",
   "execution_count": 96,
   "metadata": {},
   "outputs": [
    {
     "name": "stdout",
     "output_type": "stream",
     "text": [
      "x is 10\n",
      "x is 20\n",
      "x is 30\n",
      "x is 40\n",
      "x is 50\n",
      "x is 60\n",
      "x is 70\n",
      "x is 80\n",
      "x is 90\n",
      "x is 100\n"
     ]
    }
   ],
   "source": [
    "x=0\n",
    "for index in range(10):\n",
    "    x += 10\n",
    "    print(\"x is {0}\".format(x))"
   ]
  },
  {
   "cell_type": "code",
   "execution_count": 97,
   "metadata": {},
   "outputs": [
    {
     "name": "stdout",
     "output_type": "stream",
     "text": [
      "x is 10\n",
      "x is 20\n",
      "x is 30\n",
      "x is 40\n",
      "x is 50\n",
      "x is 60\n",
      "x is 70\n",
      "x is 80\n",
      "x is 90\n",
      "x is 100\n"
     ]
    }
   ],
   "source": [
    "x=0\n",
    "for index in range(1,11):\n",
    "    x += 10\n",
    "    print(\"x is {0}\".format(x))"
   ]
  },
  {
   "cell_type": "code",
   "execution_count": 98,
   "metadata": {},
   "outputs": [
    {
     "name": "stdout",
     "output_type": "stream",
     "text": [
      "index is 1\n",
      "index is 3\n",
      "index is 5\n",
      "index is 7\n",
      "index is 9\n"
     ]
    }
   ],
   "source": [
    "x=0\n",
    "for index in range(1,11,2):\n",
    "    print(\"index is {0}\".format(index))"
   ]
  },
  {
   "cell_type": "code",
   "execution_count": 100,
   "metadata": {},
   "outputs": [
    {
     "name": "stdout",
     "output_type": "stream",
     "text": [
      "current name sakshi\n",
      "found Anunaya\n"
     ]
    }
   ],
   "source": [
    "student_names=[\"sakshi\",\"anunaya\",\"loves\",\"you\"]\n",
    "for name in student_names:\n",
    "    if(name==\"anunaya\"):\n",
    "        print('found Anunaya')\n",
    "        break;\n",
    "    print('current name',name)"
   ]
  },
  {
   "cell_type": "code",
   "execution_count": 107,
   "metadata": {},
   "outputs": [
    {
     "name": "stdout",
     "output_type": "stream",
     "text": [
      "current name=sakshi\n",
      "current name=loves\n",
      "current name=you\n"
     ]
    }
   ],
   "source": [
    "student_names=[\"sakshi\",\"anunaya\",\"loves\",\"you\"]\n",
    "for name in student_names:\n",
    "    if(name==\"anunaya\"):\n",
    "#         print('found Anunaya')\n",
    "        continue;\n",
    "    print('current name={0}'.format(name))"
   ]
  },
  {
   "cell_type": "code",
   "execution_count": 108,
   "metadata": {},
   "outputs": [
    {
     "name": "stdout",
     "output_type": "stream",
     "text": [
      "0\n",
      "1\n",
      "2\n",
      "3\n",
      "4\n",
      "5\n"
     ]
    }
   ],
   "source": [
    "x=0;\n",
    "while x<=5:\n",
    "    print(x)\n",
    "    x+=1"
   ]
  },
  {
   "cell_type": "code",
   "execution_count": 121,
   "metadata": {},
   "outputs": [
    {
     "name": "stdout",
     "output_type": "stream",
     "text": [
      "sakshi\n",
      "unknown\n",
      "sakshi\n",
      "dict_keys(['name', 'student_id', 'feedback'])\n",
      "dict_values(['sakshi', 111, None])\n"
     ]
    },
    {
     "data": {
      "text/plain": [
       "{'feedback': None, 'student_id': 111}"
      ]
     },
     "execution_count": 121,
     "metadata": {},
     "output_type": "execute_result"
    }
   ],
   "source": [
    "# Dictionaries\n",
    "students={\n",
    "    \"name\":\"sakshi\",\n",
    "    \"student_id\":111,\n",
    "    \"feedback\":None\n",
    "}\n",
    "print(students[\"name\"])\n",
    "# print(students[\"last_name\"]) error produced\n",
    "print(students.get(\"last_name\",\"unknown\"))\n",
    "print(students.get(\"name\",\"unknown\"))\n",
    "print(students.keys())\n",
    "print(students.values())\n",
    "del(students[\"name\"])\n",
    "students"
   ]
  },
  {
   "cell_type": "code",
   "execution_count": null,
   "metadata": {
    "collapsed": true
   },
   "outputs": [],
   "source": []
  }
 ],
 "metadata": {
  "kernelspec": {
   "display_name": "Python 3",
   "language": "python",
   "name": "python3"
  },
  "language_info": {
   "codemirror_mode": {
    "name": "ipython",
    "version": 3
   },
   "file_extension": ".py",
   "mimetype": "text/x-python",
   "name": "python",
   "nbconvert_exporter": "python",
   "pygments_lexer": "ipython3",
   "version": "3.6.3"
  }
 },
 "nbformat": 4,
 "nbformat_minor": 2
}
